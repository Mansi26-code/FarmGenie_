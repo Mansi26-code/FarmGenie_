{
 "cells": [
  {
   "cell_type": "code",
   "execution_count": 247,
   "metadata": {},
   "outputs": [],
   "source": [
    "from langchain.chains.combine_documents import create_stuff_documents_chain\n",
    "import os\n",
    "from dotenv import load_dotenv\n",
    "import json\n",
    "import pandas as pd\n",
    "from langchain_core.prompts import ChatPromptTemplate, MessagesPlaceholder, BasePromptTemplate  \n",
    "import chromadb\n",
    "from langchain.chains.combine_documents import create_stuff_documents_chain     \n",
    "from langchain.chains import create_history_aware_retriever\n",
    "from langchain_core.messages import AIMessage, HumanMessage\n",
    "from langchain.chains import create_retrieval_chain\n",
    "from langchain.chains.conversation.memory import ConversationBufferMemory\n",
    "from langchain.chains import ConversationChain\n",
    "from langchain.memory import ChatMessageHistory\n",
    "from langchain_core.runnables import RunnablePassthrough\n",
    "from langchain_community.chat_message_histories import ChatMessageHistory\n",
    "from langchain_core.chat_history import BaseChatMessageHistory\n",
    "from langchain_core.runnables.history import RunnableWithMessageHistory\n",
    "from chromadb import Documents, EmbeddingFunction, Embeddings\n",
    "from langchain_chroma import Chroma\n",
    "# Load environment variables from .env file\n",
    "load_dotenv()\n",
    "gemini_api_key = os.getenv(\"GEMINI_API_KEY\")\n",
    "openai_api_key = os.getenv(\"OPENAI_API_KEY\")\n"
   ]
  },
  {
   "cell_type": "code",
   "execution_count": 202,
   "metadata": {},
   "outputs": [],
   "source": [
    "from langchain_google_genai import ChatGoogleGenerativeAI\n",
    "\n",
    "llm = ChatGoogleGenerativeAI(model=\"gemini-1.5-flash\", google_api_key=gemini_api_key,convert_system_message_to_human=True)"
   ]
  },
  {
   "cell_type": "code",
   "execution_count": 185,
   "metadata": {},
   "outputs": [],
   "source": [
    "from langchain_google_genai import GoogleGenerativeAIEmbeddings\n",
    "\n",
    "gemini_embeddings = GoogleGenerativeAIEmbeddings(model=\"models/embedding-001\", google_api_key=gemini_api_key)"
   ]
  },
  {
   "cell_type": "code",
   "execution_count": 151,
   "metadata": {},
   "outputs": [],
   "source": [
    "import google.generativeai as genai\n",
    "\n",
    "genai.configure(api_key=gemini_api_key)\n",
    "\n",
    "model = genai.GenerativeModel('gemini-1.5-flash')\n",
    "translator_model = genai.GenerativeModel('gemini-1.5-pro')\n"
   ]
  },
  {
   "cell_type": "code",
   "execution_count": 166,
   "metadata": {},
   "outputs": [],
   "source": [
    "class GeminiEmbeddingFunction(EmbeddingFunction):\n",
    "\n",
    "    def embed_query():\n",
    "      model = 'models/embedding-001'\n",
    "      title = \"Custom query\"\n",
    "      \n",
    "      \n",
    "      return genai.embed_content(model=model,\n",
    "                                  content=input,\n",
    "                                  task_type=\"retrieval_document\",\n",
    "                                  title=title)[\"embedding\"]"
   ]
  },
  {
   "cell_type": "code",
   "execution_count": 49,
   "metadata": {},
   "outputs": [],
   "source": [
    "def ready_prompt(user_query):\n",
    "\n",
    "    prompt = f'''\n",
    "\n",
    "    Prompt:\n",
    "    You are a language model tasked with classifying user queries into one or more of the following categories:\n",
    "    1.\tSoil\n",
    "    2.\tIrrigation\n",
    "    3.\tPlant Diseases/Botany\n",
    "    Each query can be associated with one or more of these labels. Your response should be formatted as a valid JSON object, specifying the number of labels assigned to the query and the labels themselves in the form of a Python list.\n",
    "    Response Format:\n",
    "\n",
    "    {{\n",
    "        \"RESPONSE\": {{\n",
    "            \"answer\": \"<Number of labels assigned to the query>\",\n",
    "            \"labels\": <Labels according to you (should be a valid python list)>\n",
    "        }}\n",
    "    }}\n",
    "    Example Query: \"How can I improve soil fertility and what are the common diseases affecting tomatoes?\"\n",
    "    Example Response:\n",
    "    {{\n",
    "        \"RESPONSE\": {{\n",
    "            \"answer\": \"2\",\n",
    "            \"labels\": [1, 3]\n",
    "        }}\n",
    "    }}\n",
    "    Your Task: For each user query, analyze the content and determine the appropriate labels (1 for Soil, 2 for Irrigation, and 3 for Plant Diseases/Botany). Provide the number of labels and the corresponding labels in the specified JSON format.\n",
    "    Examples-\n",
    "\n",
    "    Example 1: Single Label\n",
    "    Query: \"What type of soil is best for growing carrots?\"\n",
    "    Response:\n",
    "    {{\n",
    "        \"RESPONSE\": {{\n",
    "            \"answer\": \"1\",\n",
    "            \"labels\": [1]\n",
    "        }}\n",
    "    }}\n",
    "    Example 2: Single Label\n",
    "    Query: \"How often should I water my cucumber plants?\"\n",
    "    Response:\n",
    "    {{\n",
    "        \"RESPONSE\": {{\n",
    "            \"answer\": \"1\",\n",
    "            \"labels\": [2]\n",
    "        }}\n",
    "    }}\n",
    "    Example 3: Single Label\n",
    "    Query: \"What are the symptoms of powdery mildew on squash plants?\"\n",
    "    Response:\n",
    "    {{\n",
    "        \"RESPONSE\": {{\n",
    "            \"answer\": \"1\",\n",
    "            \"labels\": [3]\n",
    "        }}\n",
    "    }}\n",
    "    \n",
    "    Example 4: Multi-Label\n",
    "    Query: \"What soil amendments are needed to improve water retention, and how do I prevent root rot in tomatoes?\"\n",
    "    Response:\n",
    "    {{\n",
    "        \"RESPONSE\": {{\n",
    "            \"answer\": \"2\",\n",
    "            \"labels\": [1, 3]\n",
    "        }}\n",
    "    }}\n",
    "    Example 5: Multi-Label\n",
    "    Query: \"How can I set up a drip irrigation system and what are the benefits for soil health?\"\n",
    "    Response:\n",
    "    {{\n",
    "        \"RESPONSE\": {{\n",
    "            \"answer\": \"2\",\n",
    "            \"labels\": [1, 2]\n",
    "        }}\n",
    "    }}\n",
    "    Example 6: Multi-Label\n",
    "    Query: \"What are the best practices for watering plants to avoid fungal diseases?\"\n",
    "    Response:\n",
    "    {{\n",
    "        \"RESPONSE\": {{\n",
    "            \"answer\": \"2\",\n",
    "            \"labels\": [2, 3]\n",
    "        }}\n",
    "    }}\n",
    "\n",
    "    User Query: {user_query}\n",
    "\n",
    "\n",
    "    '''\n",
    "    \n",
    "    return prompt"
   ]
  },
  {
   "cell_type": "code",
   "execution_count": 50,
   "metadata": {},
   "outputs": [],
   "source": [
    "def gemini_pro_with_for_generation_of_subproblems(complex_query):\n",
    "\n",
    "    prompt = f'''\n",
    "\n",
    "    You are tasked with breaking down a complex query into three specific categories: Soil, Irrigation, and Plant Diseases. A complex query consists of a single question that requires multiple operations to be performed simultaneously. For each category you determine to be relevant, rephrase the original user's question and break it into sub-problems. Ensure that the core meaning of the original user's question remains intact while dividing it into sub-problems.\n",
    "    Your output should be in a well-defined valid JSON format as follows:\n",
    "    {{\n",
    "        \"RESPONSE\": {{\n",
    "            \"sub-problems\": [\"<list of sub-problems separated by commas as a Python list>\"],\n",
    "            \"labels\": [\"<Python list of labels for each of the sub-problems devised>\"]\n",
    "        }}\n",
    "    }}\n",
    "    Examples:\n",
    "    1.\tExample Query: \"How can I improve the soil quality, ensure proper irrigation, and prevent common diseases in my tomato plants?\"\n",
    "    {{\n",
    "        \"RESPONSE\": {{\n",
    "            \"sub-problems\": [\n",
    "                \"What are the best practices to improve soil quality for tomato plants?\",\n",
    "                \"How can I ensure proper irrigation for tomato plants?\",\n",
    "                \"What are the common diseases that affect tomato plants and how can I prevent them?\"\n",
    "            ],\n",
    "            \"labels\": [\"Soil\", \"Irrigation\", \"Plant Diseases\"]\n",
    "        }}\n",
    "    }}\n",
    "    2.\tExample Query: \"What are the necessary soil amendments, irrigation techniques, and disease control measures for growing healthy cucumbers?\"\n",
    "    {{\n",
    "        \"RESPONSE\": {{\n",
    "            \"sub-problems\": [\n",
    "                \"What soil amendments are necessary for growing healthy cucumbers?\",\n",
    "                \"What irrigation techniques are best for cucumber plants?\",\n",
    "                \"What disease control measures should I take for cucumber plants?\"\n",
    "            ],\n",
    "            \"labels\": [\"Soil\", \"Irrigation\", \"Plant Diseases\"]\n",
    "        }}\n",
    "    }}\n",
    "    3.\tExample Query: \"How do I prepare the soil and set up an efficient irrigation system for my new vineyard?\"\n",
    "    {{\n",
    "        \"RESPONSE\": {{\n",
    "            \"sub-problems\": [\n",
    "                \"How do I prepare the soil for a new vineyard?\",\n",
    "                \"What steps should I take to set up an efficient irrigation system for a vineyard?\"\n",
    "            ],\n",
    "            \"labels\": [\"Soil\", \"Irrigation\"]\n",
    "        }}\n",
    "    }}\n",
    "    4.\tExample Query: \"What are the best soil treatments and how do I prevent diseases in my rose garden?\"\n",
    "    {{\n",
    "        \"RESPONSE\": {{\n",
    "            \"sub-problems\": [\n",
    "                \"What are the best soil treatments for a rose garden?\",\n",
    "                \"How do I prevent diseases in a rose garden?\"\n",
    "            ],\n",
    "            \"labels\": [\"Soil\", \"Plant Diseases\"]\n",
    "        }}\n",
    "    }}\n",
    "    5.\tExample Query: \"Can you suggest irrigation methods and disease prevention tips for my apple orchard?\"\n",
    "    {{\n",
    "        \"RESPONSE\": {{\n",
    "            \"sub-problems\": [\n",
    "                \"What irrigation methods are suitable for an apple orchard?\",\n",
    "                \"What are the best tips for preventing diseases in an apple orchard?\"\n",
    "            ],\n",
    "            \"labels\": [\"Irrigation\", \"Plant Diseases\"]\n",
    "        }}\n",
    "    }}\n",
    "    6.\tExample Query: \"How should I treat the soil and what irrigation system is ideal for my herb garden?\"\n",
    "    {{\n",
    "        \"RESPONSE\": {{\n",
    "            \"sub-problems\": [\n",
    "                \"How should I treat the soil for an herb garden?\",\n",
    "                \"What irrigation system is ideal for an herb garden?\"\n",
    "            ],\n",
    "            \"labels\": [\"Soil\", \"Irrigation\"]\n",
    "        }}\n",
    "    }}\n",
    "\n",
    "    User query: {complex_query}\n",
    "    '''\n",
    "    \n",
    "    res = model.generate_content(\n",
    "        contents=prompt\n",
    "    )\n",
    "    return res.text\n"
   ]
  },
  {
   "cell_type": "code",
   "execution_count": 51,
   "metadata": {},
   "outputs": [],
   "source": [
    "def gemini_pro_with_for_multi_label_classification(user_query):\n",
    "    \n",
    "    prompt = ready_prompt(user_query=user_query)\n",
    "    \n",
    "    res = model.generate_content(\n",
    "        contents=prompt\n",
    "    )\n",
    "    return res.text\n"
   ]
  },
  {
   "cell_type": "code",
   "execution_count": 52,
   "metadata": {},
   "outputs": [],
   "source": [
    "def check_simple_or_complexy_query(query):\n",
    "    res = gemini_pro_with_for_multi_label_classification(query)\n",
    "    res = res.replace('```', '').replace(\"\\n\", \"\").replace('json','')\n",
    "    json_res = json.loads(res)\n",
    "    if len(json_res['RESPONSE']['labels']) > 1:\n",
    "        return \"COMPLEX\"\n",
    "    else:\n",
    "        return \"SIMPLE\""
   ]
  },
  {
   "cell_type": "code",
   "execution_count": 53,
   "metadata": {},
   "outputs": [],
   "source": [
    "def translate(query,src, tgt):\n",
    "    prompt = f'''\n",
    "    \n",
    "    Trnslate this sentence {query} from {src} language to {tgt} language keeping the essence, syntactic and semantic meaning the same.\n",
    "    '''\n",
    "    res = model.generate_content(contents=prompt).text\n",
    "    return res"
   ]
  },
  {
   "cell_type": "code",
   "execution_count": 188,
   "metadata": {},
   "outputs": [
    {
     "data": {
      "text/plain": [
       "'What kind of bookworms and catepillars appear due to climate change?'"
      ]
     },
     "execution_count": 188,
     "metadata": {},
     "output_type": "execute_result"
    }
   ],
   "source": [
    "query"
   ]
  },
  {
   "cell_type": "code",
   "execution_count": 191,
   "metadata": {},
   "outputs": [
    {
     "ename": "OperationalError",
     "evalue": "attempt to write a readonly database",
     "output_type": "error",
     "traceback": [
      "\u001b[0;31m---------------------------------------------------------------------------\u001b[0m",
      "\u001b[0;31mOperationalError\u001b[0m                          Traceback (most recent call last)",
      "Cell \u001b[0;32mIn[191], line 4\u001b[0m\n\u001b[1;32m      2\u001b[0m \u001b[38;5;28;01mimport\u001b[39;00m \u001b[38;5;21;01mpickle\u001b[39;00m\n\u001b[1;32m      3\u001b[0m chunks \u001b[38;5;241m=\u001b[39m pickle\u001b[38;5;241m.\u001b[39mload(\u001b[38;5;28mopen\u001b[39m(\u001b[38;5;124m'\u001b[39m\u001b[38;5;124m./RAG/chunks.pkl\u001b[39m\u001b[38;5;124m'\u001b[39m, \u001b[38;5;124m'\u001b[39m\u001b[38;5;124mrb\u001b[39m\u001b[38;5;124m'\u001b[39m))\n\u001b[0;32m----> 4\u001b[0m db2 \u001b[38;5;241m=\u001b[39m \u001b[43mChroma\u001b[49m\u001b[38;5;241;43m.\u001b[39;49m\u001b[43mfrom_texts\u001b[49m\u001b[43m(\u001b[49m\u001b[43mchunks\u001b[49m\u001b[43m,\u001b[49m\u001b[43m \u001b[49m\u001b[43mgemini_embeddings\u001b[49m\u001b[43m,\u001b[49m\u001b[43m \u001b[49m\u001b[43mpersist_directory\u001b[49m\u001b[38;5;241;43m=\u001b[39;49m\u001b[38;5;124;43m\"\u001b[39;49m\u001b[38;5;124;43m./chroma_db\u001b[39;49m\u001b[38;5;124;43m\"\u001b[39;49m\u001b[43m)\u001b[49m\n\u001b[1;32m      5\u001b[0m docs \u001b[38;5;241m=\u001b[39m db2\u001b[38;5;241m.\u001b[39msimilarity_search(query)\n",
      "File \u001b[0;32m~/anaconda3/envs/py311/lib/python3.10/site-packages/langchain_chroma/vectorstores.py:876\u001b[0m, in \u001b[0;36mChroma.from_texts\u001b[0;34m(cls, texts, embedding, metadatas, ids, collection_name, persist_directory, client_settings, client, collection_metadata, **kwargs)\u001b[0m\n\u001b[1;32m    868\u001b[0m     \u001b[38;5;28;01mfrom\u001b[39;00m \u001b[38;5;21;01mchromadb\u001b[39;00m\u001b[38;5;21;01m.\u001b[39;00m\u001b[38;5;21;01mutils\u001b[39;00m\u001b[38;5;21;01m.\u001b[39;00m\u001b[38;5;21;01mbatch_utils\u001b[39;00m \u001b[38;5;28;01mimport\u001b[39;00m create_batches\n\u001b[1;32m    870\u001b[0m     \u001b[38;5;28;01mfor\u001b[39;00m batch \u001b[38;5;129;01min\u001b[39;00m create_batches(\n\u001b[1;32m    871\u001b[0m         api\u001b[38;5;241m=\u001b[39mchroma_collection\u001b[38;5;241m.\u001b[39m_client,\n\u001b[1;32m    872\u001b[0m         ids\u001b[38;5;241m=\u001b[39mids,\n\u001b[1;32m    873\u001b[0m         metadatas\u001b[38;5;241m=\u001b[39mmetadatas,  \u001b[38;5;66;03m# type: ignore\u001b[39;00m\n\u001b[1;32m    874\u001b[0m         documents\u001b[38;5;241m=\u001b[39mtexts,\n\u001b[1;32m    875\u001b[0m     ):\n\u001b[0;32m--> 876\u001b[0m         \u001b[43mchroma_collection\u001b[49m\u001b[38;5;241;43m.\u001b[39;49m\u001b[43madd_texts\u001b[49m\u001b[43m(\u001b[49m\n\u001b[1;32m    877\u001b[0m \u001b[43m            \u001b[49m\u001b[43mtexts\u001b[49m\u001b[38;5;241;43m=\u001b[39;49m\u001b[43mbatch\u001b[49m\u001b[43m[\u001b[49m\u001b[38;5;241;43m3\u001b[39;49m\u001b[43m]\u001b[49m\u001b[43m \u001b[49m\u001b[38;5;28;43;01mif\u001b[39;49;00m\u001b[43m \u001b[49m\u001b[43mbatch\u001b[49m\u001b[43m[\u001b[49m\u001b[38;5;241;43m3\u001b[39;49m\u001b[43m]\u001b[49m\u001b[43m \u001b[49m\u001b[38;5;28;43;01melse\u001b[39;49;00m\u001b[43m \u001b[49m\u001b[43m[\u001b[49m\u001b[43m]\u001b[49m\u001b[43m,\u001b[49m\n\u001b[1;32m    878\u001b[0m \u001b[43m            \u001b[49m\u001b[43mmetadatas\u001b[49m\u001b[38;5;241;43m=\u001b[39;49m\u001b[43mbatch\u001b[49m\u001b[43m[\u001b[49m\u001b[38;5;241;43m2\u001b[39;49m\u001b[43m]\u001b[49m\u001b[43m \u001b[49m\u001b[38;5;28;43;01mif\u001b[39;49;00m\u001b[43m \u001b[49m\u001b[43mbatch\u001b[49m\u001b[43m[\u001b[49m\u001b[38;5;241;43m2\u001b[39;49m\u001b[43m]\u001b[49m\u001b[43m \u001b[49m\u001b[38;5;28;43;01melse\u001b[39;49;00m\u001b[43m \u001b[49m\u001b[38;5;28;43;01mNone\u001b[39;49;00m\u001b[43m,\u001b[49m\u001b[43m  \u001b[49m\u001b[38;5;66;43;03m# type: ignore\u001b[39;49;00m\n\u001b[1;32m    879\u001b[0m \u001b[43m            \u001b[49m\u001b[43mids\u001b[49m\u001b[38;5;241;43m=\u001b[39;49m\u001b[43mbatch\u001b[49m\u001b[43m[\u001b[49m\u001b[38;5;241;43m0\u001b[39;49m\u001b[43m]\u001b[49m\u001b[43m,\u001b[49m\n\u001b[1;32m    880\u001b[0m \u001b[43m        \u001b[49m\u001b[43m)\u001b[49m\n\u001b[1;32m    881\u001b[0m \u001b[38;5;28;01melse\u001b[39;00m:\n\u001b[1;32m    882\u001b[0m     chroma_collection\u001b[38;5;241m.\u001b[39madd_texts(texts\u001b[38;5;241m=\u001b[39mtexts, metadatas\u001b[38;5;241m=\u001b[39mmetadatas, ids\u001b[38;5;241m=\u001b[39mids)\n",
      "File \u001b[0;32m~/anaconda3/envs/py311/lib/python3.10/site-packages/langchain_chroma/vectorstores.py:438\u001b[0m, in \u001b[0;36mChroma.add_texts\u001b[0;34m(self, texts, metadatas, ids, **kwargs)\u001b[0m\n\u001b[1;32m    432\u001b[0m         \u001b[38;5;28mself\u001b[39m\u001b[38;5;241m.\u001b[39m_collection\u001b[38;5;241m.\u001b[39mupsert(\n\u001b[1;32m    433\u001b[0m             embeddings\u001b[38;5;241m=\u001b[39membeddings_without_metadatas,  \u001b[38;5;66;03m# type: ignore\u001b[39;00m\n\u001b[1;32m    434\u001b[0m             documents\u001b[38;5;241m=\u001b[39mtexts_without_metadatas,\n\u001b[1;32m    435\u001b[0m             ids\u001b[38;5;241m=\u001b[39mids_without_metadatas,\n\u001b[1;32m    436\u001b[0m         )\n\u001b[1;32m    437\u001b[0m \u001b[38;5;28;01melse\u001b[39;00m:\n\u001b[0;32m--> 438\u001b[0m     \u001b[38;5;28;43mself\u001b[39;49m\u001b[38;5;241;43m.\u001b[39;49m\u001b[43m_collection\u001b[49m\u001b[38;5;241;43m.\u001b[39;49m\u001b[43mupsert\u001b[49m\u001b[43m(\u001b[49m\n\u001b[1;32m    439\u001b[0m \u001b[43m        \u001b[49m\u001b[43membeddings\u001b[49m\u001b[38;5;241;43m=\u001b[39;49m\u001b[43membeddings\u001b[49m\u001b[43m,\u001b[49m\u001b[43m  \u001b[49m\u001b[38;5;66;43;03m# type: ignore\u001b[39;49;00m\n\u001b[1;32m    440\u001b[0m \u001b[43m        \u001b[49m\u001b[43mdocuments\u001b[49m\u001b[38;5;241;43m=\u001b[39;49m\u001b[43mtexts\u001b[49m\u001b[43m,\u001b[49m\n\u001b[1;32m    441\u001b[0m \u001b[43m        \u001b[49m\u001b[43mids\u001b[49m\u001b[38;5;241;43m=\u001b[39;49m\u001b[43mids\u001b[49m\u001b[43m,\u001b[49m\n\u001b[1;32m    442\u001b[0m \u001b[43m    \u001b[49m\u001b[43m)\u001b[49m\n\u001b[1;32m    443\u001b[0m \u001b[38;5;28;01mreturn\u001b[39;00m ids\n",
      "File \u001b[0;32m~/anaconda3/envs/py311/lib/python3.10/site-packages/chromadb/api/models/Collection.py:487\u001b[0m, in \u001b[0;36mCollection.upsert\u001b[0;34m(self, ids, embeddings, metadatas, documents, images, uris)\u001b[0m\n\u001b[1;32m    484\u001b[0m     \u001b[38;5;28;01melse\u001b[39;00m:\n\u001b[1;32m    485\u001b[0m         embeddings \u001b[38;5;241m=\u001b[39m \u001b[38;5;28mself\u001b[39m\u001b[38;5;241m.\u001b[39m_embed(\u001b[38;5;28minput\u001b[39m\u001b[38;5;241m=\u001b[39mimages)\n\u001b[0;32m--> 487\u001b[0m \u001b[38;5;28;43mself\u001b[39;49m\u001b[38;5;241;43m.\u001b[39;49m\u001b[43m_client\u001b[49m\u001b[38;5;241;43m.\u001b[39;49m\u001b[43m_upsert\u001b[49m\u001b[43m(\u001b[49m\n\u001b[1;32m    488\u001b[0m \u001b[43m    \u001b[49m\u001b[43mcollection_id\u001b[49m\u001b[38;5;241;43m=\u001b[39;49m\u001b[38;5;28;43mself\u001b[39;49m\u001b[38;5;241;43m.\u001b[39;49m\u001b[43mid\u001b[49m\u001b[43m,\u001b[49m\n\u001b[1;32m    489\u001b[0m \u001b[43m    \u001b[49m\u001b[43mids\u001b[49m\u001b[38;5;241;43m=\u001b[39;49m\u001b[43mids\u001b[49m\u001b[43m,\u001b[49m\n\u001b[1;32m    490\u001b[0m \u001b[43m    \u001b[49m\u001b[43membeddings\u001b[49m\u001b[38;5;241;43m=\u001b[39;49m\u001b[43membeddings\u001b[49m\u001b[43m,\u001b[49m\n\u001b[1;32m    491\u001b[0m \u001b[43m    \u001b[49m\u001b[43mmetadatas\u001b[49m\u001b[38;5;241;43m=\u001b[39;49m\u001b[43mmetadatas\u001b[49m\u001b[43m,\u001b[49m\n\u001b[1;32m    492\u001b[0m \u001b[43m    \u001b[49m\u001b[43mdocuments\u001b[49m\u001b[38;5;241;43m=\u001b[39;49m\u001b[43mdocuments\u001b[49m\u001b[43m,\u001b[49m\n\u001b[1;32m    493\u001b[0m \u001b[43m    \u001b[49m\u001b[43muris\u001b[49m\u001b[38;5;241;43m=\u001b[39;49m\u001b[43muris\u001b[49m\u001b[43m,\u001b[49m\n\u001b[1;32m    494\u001b[0m \u001b[43m\u001b[49m\u001b[43m)\u001b[49m\n",
      "File \u001b[0;32m~/anaconda3/envs/py311/lib/python3.10/site-packages/chromadb/telemetry/opentelemetry/__init__.py:127\u001b[0m, in \u001b[0;36mtrace_method.<locals>.decorator.<locals>.wrapper\u001b[0;34m(*args, **kwargs)\u001b[0m\n\u001b[1;32m    125\u001b[0m \u001b[38;5;28;01mglobal\u001b[39;00m tracer, granularity\n\u001b[1;32m    126\u001b[0m \u001b[38;5;28;01mif\u001b[39;00m trace_granularity \u001b[38;5;241m<\u001b[39m granularity:\n\u001b[0;32m--> 127\u001b[0m     \u001b[38;5;28;01mreturn\u001b[39;00m \u001b[43mf\u001b[49m\u001b[43m(\u001b[49m\u001b[38;5;241;43m*\u001b[39;49m\u001b[43margs\u001b[49m\u001b[43m,\u001b[49m\u001b[43m \u001b[49m\u001b[38;5;241;43m*\u001b[39;49m\u001b[38;5;241;43m*\u001b[39;49m\u001b[43mkwargs\u001b[49m\u001b[43m)\u001b[49m\n\u001b[1;32m    128\u001b[0m \u001b[38;5;28;01mif\u001b[39;00m \u001b[38;5;129;01mnot\u001b[39;00m tracer:\n\u001b[1;32m    129\u001b[0m     \u001b[38;5;28;01mreturn\u001b[39;00m f(\u001b[38;5;241m*\u001b[39margs, \u001b[38;5;241m*\u001b[39m\u001b[38;5;241m*\u001b[39mkwargs)\n",
      "File \u001b[0;32m~/anaconda3/envs/py311/lib/python3.10/site-packages/chromadb/api/segment.py:465\u001b[0m, in \u001b[0;36mSegmentAPI._upsert\u001b[0;34m(self, collection_id, ids, embeddings, metadatas, documents, uris)\u001b[0m\n\u001b[1;32m    455\u001b[0m records_to_submit \u001b[38;5;241m=\u001b[39m []\n\u001b[1;32m    456\u001b[0m \u001b[38;5;28;01mfor\u001b[39;00m r \u001b[38;5;129;01min\u001b[39;00m _records(\n\u001b[1;32m    457\u001b[0m     t\u001b[38;5;241m.\u001b[39mOperation\u001b[38;5;241m.\u001b[39mUPSERT,\n\u001b[1;32m    458\u001b[0m     ids\u001b[38;5;241m=\u001b[39mids,\n\u001b[0;32m   (...)\u001b[0m\n\u001b[1;32m    463\u001b[0m     uris\u001b[38;5;241m=\u001b[39muris,\n\u001b[1;32m    464\u001b[0m ):\n\u001b[0;32m--> 465\u001b[0m     \u001b[38;5;28;43mself\u001b[39;49m\u001b[38;5;241;43m.\u001b[39;49m\u001b[43m_validate_embedding_record\u001b[49m\u001b[43m(\u001b[49m\u001b[43mcoll\u001b[49m\u001b[43m,\u001b[49m\u001b[43m \u001b[49m\u001b[43mr\u001b[49m\u001b[43m)\u001b[49m\n\u001b[1;32m    466\u001b[0m     records_to_submit\u001b[38;5;241m.\u001b[39mappend(r)\n\u001b[1;32m    467\u001b[0m \u001b[38;5;28mself\u001b[39m\u001b[38;5;241m.\u001b[39m_producer\u001b[38;5;241m.\u001b[39msubmit_embeddings(coll[\u001b[38;5;124m\"\u001b[39m\u001b[38;5;124mtopic\u001b[39m\u001b[38;5;124m\"\u001b[39m], records_to_submit)\n",
      "File \u001b[0;32m~/anaconda3/envs/py311/lib/python3.10/site-packages/chromadb/telemetry/opentelemetry/__init__.py:127\u001b[0m, in \u001b[0;36mtrace_method.<locals>.decorator.<locals>.wrapper\u001b[0;34m(*args, **kwargs)\u001b[0m\n\u001b[1;32m    125\u001b[0m \u001b[38;5;28;01mglobal\u001b[39;00m tracer, granularity\n\u001b[1;32m    126\u001b[0m \u001b[38;5;28;01mif\u001b[39;00m trace_granularity \u001b[38;5;241m<\u001b[39m granularity:\n\u001b[0;32m--> 127\u001b[0m     \u001b[38;5;28;01mreturn\u001b[39;00m \u001b[43mf\u001b[49m\u001b[43m(\u001b[49m\u001b[38;5;241;43m*\u001b[39;49m\u001b[43margs\u001b[49m\u001b[43m,\u001b[49m\u001b[43m \u001b[49m\u001b[38;5;241;43m*\u001b[39;49m\u001b[38;5;241;43m*\u001b[39;49m\u001b[43mkwargs\u001b[49m\u001b[43m)\u001b[49m\n\u001b[1;32m    128\u001b[0m \u001b[38;5;28;01mif\u001b[39;00m \u001b[38;5;129;01mnot\u001b[39;00m tracer:\n\u001b[1;32m    129\u001b[0m     \u001b[38;5;28;01mreturn\u001b[39;00m f(\u001b[38;5;241m*\u001b[39margs, \u001b[38;5;241m*\u001b[39m\u001b[38;5;241m*\u001b[39mkwargs)\n",
      "File \u001b[0;32m~/anaconda3/envs/py311/lib/python3.10/site-packages/chromadb/api/segment.py:803\u001b[0m, in \u001b[0;36mSegmentAPI._validate_embedding_record\u001b[0;34m(self, collection, record)\u001b[0m\n\u001b[1;32m    801\u001b[0m add_attributes_to_current_span({\u001b[38;5;124m\"\u001b[39m\u001b[38;5;124mcollection_id\u001b[39m\u001b[38;5;124m\"\u001b[39m: \u001b[38;5;28mstr\u001b[39m(collection[\u001b[38;5;124m\"\u001b[39m\u001b[38;5;124mid\u001b[39m\u001b[38;5;124m\"\u001b[39m])})\n\u001b[1;32m    802\u001b[0m \u001b[38;5;28;01mif\u001b[39;00m record[\u001b[38;5;124m\"\u001b[39m\u001b[38;5;124membedding\u001b[39m\u001b[38;5;124m\"\u001b[39m]:\n\u001b[0;32m--> 803\u001b[0m     \u001b[38;5;28;43mself\u001b[39;49m\u001b[38;5;241;43m.\u001b[39;49m\u001b[43m_validate_dimension\u001b[49m\u001b[43m(\u001b[49m\u001b[43mcollection\u001b[49m\u001b[43m,\u001b[49m\u001b[43m \u001b[49m\u001b[38;5;28;43mlen\u001b[39;49m\u001b[43m(\u001b[49m\u001b[43mrecord\u001b[49m\u001b[43m[\u001b[49m\u001b[38;5;124;43m\"\u001b[39;49m\u001b[38;5;124;43membedding\u001b[39;49m\u001b[38;5;124;43m\"\u001b[39;49m\u001b[43m]\u001b[49m\u001b[43m)\u001b[49m\u001b[43m,\u001b[49m\u001b[43m \u001b[49m\u001b[43mupdate\u001b[49m\u001b[38;5;241;43m=\u001b[39;49m\u001b[38;5;28;43;01mTrue\u001b[39;49;00m\u001b[43m)\u001b[49m\n",
      "File \u001b[0;32m~/anaconda3/envs/py311/lib/python3.10/site-packages/chromadb/telemetry/opentelemetry/__init__.py:127\u001b[0m, in \u001b[0;36mtrace_method.<locals>.decorator.<locals>.wrapper\u001b[0;34m(*args, **kwargs)\u001b[0m\n\u001b[1;32m    125\u001b[0m \u001b[38;5;28;01mglobal\u001b[39;00m tracer, granularity\n\u001b[1;32m    126\u001b[0m \u001b[38;5;28;01mif\u001b[39;00m trace_granularity \u001b[38;5;241m<\u001b[39m granularity:\n\u001b[0;32m--> 127\u001b[0m     \u001b[38;5;28;01mreturn\u001b[39;00m \u001b[43mf\u001b[49m\u001b[43m(\u001b[49m\u001b[38;5;241;43m*\u001b[39;49m\u001b[43margs\u001b[49m\u001b[43m,\u001b[49m\u001b[43m \u001b[49m\u001b[38;5;241;43m*\u001b[39;49m\u001b[38;5;241;43m*\u001b[39;49m\u001b[43mkwargs\u001b[49m\u001b[43m)\u001b[49m\n\u001b[1;32m    128\u001b[0m \u001b[38;5;28;01mif\u001b[39;00m \u001b[38;5;129;01mnot\u001b[39;00m tracer:\n\u001b[1;32m    129\u001b[0m     \u001b[38;5;28;01mreturn\u001b[39;00m f(\u001b[38;5;241m*\u001b[39margs, \u001b[38;5;241m*\u001b[39m\u001b[38;5;241m*\u001b[39mkwargs)\n",
      "File \u001b[0;32m~/anaconda3/envs/py311/lib/python3.10/site-packages/chromadb/api/segment.py:815\u001b[0m, in \u001b[0;36mSegmentAPI._validate_dimension\u001b[0;34m(self, collection, dim, update)\u001b[0m\n\u001b[1;32m    813\u001b[0m     \u001b[38;5;28;01mif\u001b[39;00m update:\n\u001b[1;32m    814\u001b[0m         \u001b[38;5;28mid\u001b[39m \u001b[38;5;241m=\u001b[39m collection[\u001b[38;5;124m\"\u001b[39m\u001b[38;5;124mid\u001b[39m\u001b[38;5;124m\"\u001b[39m]\n\u001b[0;32m--> 815\u001b[0m         \u001b[38;5;28;43mself\u001b[39;49m\u001b[38;5;241;43m.\u001b[39;49m\u001b[43m_sysdb\u001b[49m\u001b[38;5;241;43m.\u001b[39;49m\u001b[43mupdate_collection\u001b[49m\u001b[43m(\u001b[49m\u001b[38;5;28;43mid\u001b[39;49m\u001b[38;5;241;43m=\u001b[39;49m\u001b[38;5;28;43mid\u001b[39;49m\u001b[43m,\u001b[49m\u001b[43m \u001b[49m\u001b[43mdimension\u001b[49m\u001b[38;5;241;43m=\u001b[39;49m\u001b[43mdim\u001b[49m\u001b[43m)\u001b[49m\n\u001b[1;32m    816\u001b[0m         \u001b[38;5;28mself\u001b[39m\u001b[38;5;241m.\u001b[39m_collection_cache[\u001b[38;5;28mid\u001b[39m][\u001b[38;5;124m\"\u001b[39m\u001b[38;5;124mdimension\u001b[39m\u001b[38;5;124m\"\u001b[39m] \u001b[38;5;241m=\u001b[39m dim\n\u001b[1;32m    817\u001b[0m \u001b[38;5;28;01melif\u001b[39;00m collection[\u001b[38;5;124m\"\u001b[39m\u001b[38;5;124mdimension\u001b[39m\u001b[38;5;124m\"\u001b[39m] \u001b[38;5;241m!=\u001b[39m dim:\n",
      "File \u001b[0;32m~/anaconda3/envs/py311/lib/python3.10/site-packages/chromadb/telemetry/opentelemetry/__init__.py:127\u001b[0m, in \u001b[0;36mtrace_method.<locals>.decorator.<locals>.wrapper\u001b[0;34m(*args, **kwargs)\u001b[0m\n\u001b[1;32m    125\u001b[0m \u001b[38;5;28;01mglobal\u001b[39;00m tracer, granularity\n\u001b[1;32m    126\u001b[0m \u001b[38;5;28;01mif\u001b[39;00m trace_granularity \u001b[38;5;241m<\u001b[39m granularity:\n\u001b[0;32m--> 127\u001b[0m     \u001b[38;5;28;01mreturn\u001b[39;00m \u001b[43mf\u001b[49m\u001b[43m(\u001b[49m\u001b[38;5;241;43m*\u001b[39;49m\u001b[43margs\u001b[49m\u001b[43m,\u001b[49m\u001b[43m \u001b[49m\u001b[38;5;241;43m*\u001b[39;49m\u001b[38;5;241;43m*\u001b[39;49m\u001b[43mkwargs\u001b[49m\u001b[43m)\u001b[49m\n\u001b[1;32m    128\u001b[0m \u001b[38;5;28;01mif\u001b[39;00m \u001b[38;5;129;01mnot\u001b[39;00m tracer:\n\u001b[1;32m    129\u001b[0m     \u001b[38;5;28;01mreturn\u001b[39;00m f(\u001b[38;5;241m*\u001b[39margs, \u001b[38;5;241m*\u001b[39m\u001b[38;5;241m*\u001b[39mkwargs)\n",
      "File \u001b[0;32m~/anaconda3/envs/py311/lib/python3.10/site-packages/chromadb/db/mixins/sysdb.py:624\u001b[0m, in \u001b[0;36mSqlSysDB.update_collection\u001b[0;34m(self, id, topic, name, dimension, metadata)\u001b[0m\n\u001b[1;32m    622\u001b[0m \u001b[38;5;28;01mif\u001b[39;00m sql:  \u001b[38;5;66;03m# pypika emits a blank string if nothing to do\u001b[39;00m\n\u001b[1;32m    623\u001b[0m     sql \u001b[38;5;241m=\u001b[39m sql \u001b[38;5;241m+\u001b[39m \u001b[38;5;124m\"\u001b[39m\u001b[38;5;124m RETURNING id\u001b[39m\u001b[38;5;124m\"\u001b[39m\n\u001b[0;32m--> 624\u001b[0m     result \u001b[38;5;241m=\u001b[39m \u001b[43mcur\u001b[49m\u001b[38;5;241;43m.\u001b[39;49m\u001b[43mexecute\u001b[49m\u001b[43m(\u001b[49m\u001b[43msql\u001b[49m\u001b[43m,\u001b[49m\u001b[43m \u001b[49m\u001b[43mparams\u001b[49m\u001b[43m)\u001b[49m\n\u001b[1;32m    625\u001b[0m     \u001b[38;5;28;01mif\u001b[39;00m \u001b[38;5;129;01mnot\u001b[39;00m result\u001b[38;5;241m.\u001b[39mfetchone():\n\u001b[1;32m    626\u001b[0m         \u001b[38;5;28;01mraise\u001b[39;00m NotFoundError(\u001b[38;5;124mf\u001b[39m\u001b[38;5;124m\"\u001b[39m\u001b[38;5;124mCollection \u001b[39m\u001b[38;5;132;01m{\u001b[39;00m\u001b[38;5;28mid\u001b[39m\u001b[38;5;132;01m}\u001b[39;00m\u001b[38;5;124m not found\u001b[39m\u001b[38;5;124m\"\u001b[39m)\n",
      "\u001b[0;31mOperationalError\u001b[0m: attempt to write a readonly database"
     ]
    }
   ],
   "source": [
    "# save to disk\n",
    "import pickle\n",
    "chunks = pickle.load(open('./RAG/chunks.pkl', 'rb'))\n",
    "db2 = Chroma.from_texts(chunks, gemini_embeddings, persist_directory=\"./chroma_db\")\n",
    "docs = db2.similarity_search(query)\n"
   ]
  },
  {
   "cell_type": "code",
   "execution_count": null,
   "metadata": {},
   "outputs": [],
   "source": [
    "docs"
   ]
  },
  {
   "cell_type": "code",
   "execution_count": 54,
   "metadata": {},
   "outputs": [],
   "source": [
    "def load_chromadb():\n",
    "    # client = chromadb.PersistentClient(path=\"RAG/vectorSearchForFarmGenie\")\n",
    "    # chroma_db = client.get_collection(collection_name)\n",
    "    # return chroma_db \n",
    "    # load from disk\n",
    "    query = \"What kind of bookworms and catepillars appear due to climate change?\"\n",
    "    db = Chroma(persist_directory=\"RAG/vectorSearchForFarmGenie\", embedding_function=gemini_embeddings)\n",
    "    docs = db.similarity_search(query)  \n",
    "    print(docs)"
   ]
  },
  {
   "cell_type": "code",
   "execution_count": 55,
   "metadata": {},
   "outputs": [],
   "source": [
    "def CreateEmbeddings(query):\n",
    "    model = 'models/embedding-001'\n",
    "    embedding = genai.embed_content(model=model,\n",
    "                                content=query,\n",
    "                                task_type=\"retrieval_query\",\n",
    ")\n",
    "    return embedding"
   ]
  },
  {
   "cell_type": "code",
   "execution_count": 134,
   "metadata": {},
   "outputs": [],
   "source": [
    "def rag_setup(query):\n",
    "    \n",
    "    collection_name = 'embeddings_for_farm_book'\n",
    "    db = load_chromadb(collection_name=collection_name)\n",
    "    query = \"What kind of bookworms and catepillars appear due to climate change?\"\n",
    "    query_embeddings = CreateEmbeddings(query)\n",
    "    query_embeddings = query_embeddings['embedding']\n",
    "    # query_embeddings = create_embeddings(query)\n",
    "    result = db.query(query_embeddings=query_embeddings, n_results=1).get('documents')[0][0]\n",
    "    return result"
   ]
  },
  {
   "cell_type": "code",
   "execution_count": 265,
   "metadata": {},
   "outputs": [],
   "source": [
    "def CreateSubproblems(query):\n",
    "    res = gemini_pro_with_for_generation_of_subproblems(query)\n",
    "    res = res.replace('```', '').replace(\"\\n\", \"\").replace('json','')\n",
    "    json_res = json.loads(res)\n",
    "    json_res = json_res['subproblems']\n",
    "    return json_res"
   ]
  },
  {
   "cell_type": "code",
   "execution_count": 136,
   "metadata": {},
   "outputs": [],
   "source": [
    "from langchain_core.runnables import Runnable\n",
    "from langchain_core.runnables import RunnableLambda\n"
   ]
  },
  {
   "cell_type": "code",
   "execution_count": 273,
   "metadata": {},
   "outputs": [],
   "source": [
    "# @chain\n",
    "def HE_TranslatorRunnable(input):\n",
    "    \n",
    "    src=\"Hindi\"\n",
    "    tgt = \"English\"\n",
    "    translated_text = translate(input, {src}, {tgt})\n",
    "    return translated_text"
   ]
  },
  {
   "cell_type": "code",
   "execution_count": 274,
   "metadata": {},
   "outputs": [],
   "source": [
    "# @chain\n",
    "def EH_TranslatorRunnable(input):\n",
    "    \n",
    "    src=\"English\"\n",
    "    tgt = \"Hindi\"\n",
    "    translated_text = translate(input, {src}, {tgt})\n",
    "    return translated_text"
   ]
  },
  {
   "cell_type": "code",
   "execution_count": 275,
   "metadata": {},
   "outputs": [],
   "source": [
    "\n",
    "# @chain\n",
    "def RAGRunnable(input):\n",
    "   \n",
    "    rag_out = rag_setup(input)\n",
    "    \n",
    "    return rag_out"
   ]
  },
  {
   "cell_type": "code",
   "execution_count": 276,
   "metadata": {},
   "outputs": [],
   "source": [
    "# @chain\n",
    "def MoERunnable(query):\n",
    "\n",
    "    subproblems = CreateSubproblems(query)\n",
    "    \n",
    "    return subproblems"
   ]
  },
  {
   "cell_type": "code",
   "execution_count": 277,
   "metadata": {},
   "outputs": [],
   "source": [
    "# @chain\n",
    "def ConditionalRunnable(translated_input):\n",
    "    res = check_simple_or_complexy_query(translated_input)\n",
    "    if res == 'SIMPLE':\n",
    "        output = RAGRunnable(translated_input)\n",
    "        \n",
    "    elif res == 'COMPLEX':\n",
    "        output = MoERunnable(translated_input)\n",
    "    return output, translated_input"
   ]
  },
  {
   "cell_type": "code",
   "execution_count": 194,
   "metadata": {},
   "outputs": [
    {
     "data": {
      "text/plain": [
       "[Document(page_content='due to climate change • Due to increase in rainfall: Pests like bollworm, red hairy caterpillar and leaf spot diseases may increase.Due to increase in temperature: Suck-ing pests such as mites and leaf miner may in-crease. • Due to variation in rainfall and temperature: Pest and diseases of crops to be altered because of more enhanced pathogen and vector devel-opment, rapid pathogen transmission and in-creased host susceptibility. Sometimes a minor pest may become a major pest. • Agricultural biodiversity is also threatened by decreased rainfall and increased temperature, sea level rise and increased frequency and se- verity of drought, cyclone and flood. Quality of farm products such as fruits, vegetables, tea, coffee, aromatic and medicinal plants may be affected. Water • Demand for irrigation to increase with in-creased temperature and higher amount of evapo-transpiration. This may result in lower - ing of groundwater table at some places. • The melting of glaciers in the Himalayas will increase water availability in the Ganga, Brah-maputra and their tributaries in the short-run but in the long-run the availability of water will decrease considerably. • A significant increase in runoff is projected in the rainy season, however, may not be very ben-eficial unless storage infrastructure could be vastly expanded. This extra water in the rainy season, on the other hand, may lead to increase in frequency and duration of floods. • The water balance in different parts of India will be disturbed and the quality of ground water along costal track will be more affected due to intrusion of sea water. Soil • Organic matter content, which is already quite low in Indian soil, would become even lower. Quality of soil organic matter may be affected. • Reduction in rate of decomposition and nutri-ent supply. • Increase in soil temperature may reduce Nitro-gen availability due to volatilization and deni-trification.• Change in rainfall volume and frequency as well as wind may alter'),\n",
       " Document(page_content='capability are sustainable but market forces and farmers’ aspirations are forcing unsustainable systems. • Farmers must innovate in producing more even from less endowed areas by adopting suitable technologies to cope with changing climate. • Climate change will likely to cause further problems in our crop production and is likely to become the most important environmental issue in the 21st century. Important agricultural related factors responsible for climate change • Deforestation and forest degradation • Burning of fuel and farm waste • Water logged condition • Excessive use of external input • Large-scale conversion of land for non-agricul- tural purpose Impact of climate change in India • Rainfall: No long-term trend noted. However, regional variations seen, increased summer rainfall and less number of rainy days. • Temperature: About 0.6 ºC rise in surface tem- perature during 100 years. Projected to increase 3.5 to 5 ºC by 2100. • Carbon dioxide: Increasing at the rate of 1.9 ppm per year and expected to reach 550 ppm by 2050 and 700 ppm by 2100. • Extreme events: Increased frequency of heat wave, cold wave, droughts and floods observed during last decade. • Rising sea level: Rise of 2.5 mm/year since 1950. • Glaciers: Rapid melting of the glaciers in the Himalayas. • Rainfall distribution: Shift in peak rainfall dis-tribution also noticed in some parts of country. Expected impact of climate change on agriculture • Due to increase in temperature, crop may re- quire more water. • Yield may be reduced in cereal crops especially in Rabi; i.e. wheat. Impact of Drought Impact of Flood Heat Wave on Maize Cold wave damage to chana harvest6 General Conditions for Cultivation of Crops Farmer’s Handbook on Basic Agriculture Change in pest and disease scenario due to climate change • Due to increase in rainfall: Pests like bollworm, red hairy'),\n",
       " Document(page_content='and deni-trification.• Change in rainfall volume and frequency as well as wind may alter the severity, frequency and extent of soil erosion. • Rise in sea level may lead to salt water entry in the coastal lands turning them less suitable for conventional agriculture. Livestock • Affect feed production and nutrition of live-stock. Increased temperature would reduce di-gestibility. Increased water scarcity would also decrease the food and fodder production. • Major impacts on vector-borne diseases through expansion of vector populations dur - ing rainy years, leading to large outbreaks of diseases. • Increase water, shelter, and energy require-ment of livestock for meeting projected milk demands. • Climate change is likely to aggravate heat stress in dairy animals, adversely affecting their re-productive performance. Fishery • Increased sea and river water temperature is likely to affect fish breeding, migration and har - vest. • Impacts of increased temperature and tropical cyclonic activity would affect capture, produc-tion and marketing costs of the marine fish. Coping options for farmers Access to information • Progressive Farmers • ATMA extension functionaries – Block Tech- nology Manager, SMS, farmer friend, Farm School • Trained input dealers • Agri Clinics and Agribusiness Centers • KVK • Agricultural Research Stations • Agricultural Universities • ICAR Organisations • Kissan Call Centers (Toll free no.1551 or 1800 – 180 – 1551) • Concerned NGOs • Agribusiness Companies • Radio, TV , Agricultural Magzines, Community Radio, Newspapers, Agricultural Websites etc. General Conditions for Cultivation of Crops Farmer’s Handbook on Basic Agriculture 7Coping options for farmers Enlarging the Food Basket • Diversifying the livelihood sources. • Changing cropping patterns. • Increased traditional coping strategies. • Change to a mixed cropping pattern. E.g: Crop Mixture-Nutri Millets, Pulses and Oilseed Integrated Farming System • Increased share of')]"
      ]
     },
     "execution_count": 194,
     "metadata": {},
     "output_type": "execute_result"
    }
   ],
   "source": [
    "# load from disk\n",
    "db = Chroma(persist_directory=\"./RAG/vectorSearchForFarmGenie\", embedding_function=gemini_embeddings, collection_name=\"embeddings_for_farm_book\")\n",
    "docs = db.similarity_search(query, k=2)\n",
    "docs"
   ]
  },
  {
   "cell_type": "code",
   "execution_count": 278,
   "metadata": {},
   "outputs": [],
   "source": [
    "# Initialize memory\n",
    "# memory = ConversationBufferMemory()\n",
    "\n",
    "chat_history = []"
   ]
  },
  {
   "cell_type": "code",
   "execution_count": 279,
   "metadata": {},
   "outputs": [],
   "source": [
    "# @chain\n",
    "def OutputRunnable(output):\n",
    "    \n",
    "    vectorstore = Chroma(persist_directory=\"./RAG/vectorSearchForFarmGenie\", embedding_function=gemini_embeddings, collection_name=\"embeddings_for_farm_book\")\n",
    "    retriever = vectorstore.as_retriever(k=2)\n",
    "\n",
    "    # chat_history = ChatMessageHistory()\n",
    "    \n",
    "    # chat_history.add_user_message(query)\n",
    "    \n",
    "    # # print(chat_history.messages)\n",
    "    \n",
    "    system_prompt = (\n",
    "        \"You are an assistant for question-answering tasks in a human-like conversational manner. \"\n",
    "        \"Use the following pieces of retrieved context to answer \"\n",
    "        \"the question. If you don't know the answer, say that you \"\n",
    "        \"don't know.\"\n",
    "        \"\\n\\n\"\n",
    "        \"{context}\"\n",
    "    \n",
    "    )\n",
    "    \n",
    "    \n",
    "    \n",
    "    # # System prompt for answering\n",
    "    # system_prompt = (\n",
    "    #     \"You are an assistant for question-answering tasks in a human-like conversational manner. \"\n",
    "    #     \"Use the following pieces of retrieved context to answer \"\n",
    "    #     \"the question. If you don't know the answer, say that you \"\n",
    "    #     \"don't know.\"\n",
    "    #     \"\\n\\n\"\n",
    "    #     \"{context}\"\n",
    "    # )\n",
    "\n",
    "    # Create contextualize question prompt\n",
    "    contextualize_q_system_prompt = (\n",
    "        \"Given a chat history and the latest user question \"\n",
    "        \"which might reference context in the chat history, \"\n",
    "        \"formulate a standalone question which can be understood \"\n",
    "        \"without the chat history. Do NOT answer the question, \"\n",
    "        \"just reformulate it if needed and otherwise return it as is.\"\n",
    "    )\n",
    "    contextualize_q_prompt = ChatPromptTemplate.from_messages(\n",
    "        [\n",
    "            (\"system\", contextualize_q_system_prompt),\n",
    "            MessagesPlaceholder(\"chat_history\"),\n",
    "            (\"human\", \"{input}\"),\n",
    "        ]\n",
    "    )\n",
    "    history_aware_retriever = create_history_aware_retriever(\n",
    "        llm, retriever, contextualize_q_prompt\n",
    "    )\n",
    "\n",
    "    # Create QA prompt\n",
    "    qa_prompt = ChatPromptTemplate.from_messages(\n",
    "        [\n",
    "            (\"system\", system_prompt),\n",
    "            MessagesPlaceholder(\"chat_history\"),\n",
    "            (\"human\", \"{input}\"),\n",
    "        ]\n",
    "    )\n",
    "    question_answer_chain = create_stuff_documents_chain(llm, qa_prompt)\n",
    "    rag_chain = create_retrieval_chain(history_aware_retriever, question_answer_chain)\n",
    "\n",
    "\n",
    "\n",
    "    # question = \"What is Task Decomposition?\"\n",
    "    ai_msg_1 = rag_chain.invoke({\"input\": query, \"chat_history\": chat_history})\n",
    "    # print(ai_msg_1['answer'])\n",
    "    \n",
    "    chat_history.extend(\n",
    "        [\n",
    "            HumanMessage(content=query),\n",
    "            AIMessage(content=ai_msg_1[\"answer\"]),\n",
    "        ]\n",
    "    )\n",
    "    \n",
    "    return ai_msg_1['answer']\n",
    "\n",
    "    # second_question = \"How to get rid of them?\"\n",
    "    # ai_msg_2 = rag_chain.invoke({\"input\": second_question, \"chat_history\": chat_history})\n",
    "\n",
    "    # print(ai_msg_2[\"answer\"])\n",
    "\n",
    "\n",
    "\n",
    "    # prompt = ChatPromptTemplate.from_messages(  \n",
    "    # [\n",
    "    #     (\"system\", system_prompt),\n",
    "    #     (\"human\", \"{input}\"),\n",
    "    # ]\n",
    "    # )\n",
    "    \n",
    "    # document_chain = create_stuff_documents_chain(llm, prompt)\n",
    "    # rag_chain = create_retrieval_chain(retriever, document_chain)\n",
    "    # response = rag_chain.invoke({\"input\": query})\n",
    "    # document_chain.invoke(\n",
    "    #     {\n",
    "    #         \"messages\": chat_history.messages,\n",
    "    #         \"context\": output\n",
    "    #     }\n",
    "    # )\n",
    "    \n",
    "\n",
    "    \n",
    "    # # Statefully manage chat history\n",
    "    # store = {}\n",
    "\n",
    "    # def get_session_history(session_id: str) -> BaseChatMessageHistory:\n",
    "    #     if session_id not in store:\n",
    "    #         store[session_id] = ChatMessageHistory()\n",
    "    #     return store[session_id]\n",
    "\n",
    "    # class RunnableWithMessageHistory(Runnable):\n",
    "    #     def __init__(self, runnable, get_session_history, input_messages_key, history_messages_key, output_messages_key):\n",
    "    #         self.runnable = runnable\n",
    "    #         self.get_session_history = get_session_history\n",
    "    #         self.input_messages_key = input_messages_key\n",
    "    #         self.history_messages_key = history_messages_key\n",
    "    #         self.output_messages_key = output_messages_key\n",
    "\n",
    "    #     def invoke(self, input, config=None):\n",
    "    #         session_id = config.get(\"configurable\", {}).get(\"session_id\")\n",
    "    #         chat_history = self.get_session_history(session_id)\n",
    "    #         chat_history.add_message({\"role\": \"user\", \"content\": input[self.input_messages_key]})\n",
    "\n",
    "    #         augmented_input = {\n",
    "    #             self.history_messages_key: chat_history.messages,\n",
    "    #             **input\n",
    "    #         }\n",
    "\n",
    "    #         result = self.runnable.invoke(augmented_input, config=config)\n",
    "\n",
    "    #         chat_history.add_message({\"role\": \"assistant\", \"content\": result[self.output_messages_key]})\n",
    "    #         return result\n",
    "\n",
    "    # conversational_rag_chain = RunnableWithMessageHistory(\n",
    "    #     rag_chain,\n",
    "    #     get_session_history,\n",
    "    #     input_messages_key=\"input\",\n",
    "    #     history_messages_key=\"chat_history\",\n",
    "    #     output_messages_key=\"answer\",\n",
    "    # )\n",
    "\n",
    "    # answer = conversational_rag_chain.invoke(\n",
    "    #     {\"input\": query},\n",
    "    #     config={\"configurable\": {\"session_id\": \"abc123\"}}\n",
    "    # )[\"answer\"]\n",
    "\n",
    "    # return response\n",
    "\n",
    "\n"
   ]
  },
  {
   "cell_type": "code",
   "execution_count": 280,
   "metadata": {},
   "outputs": [
    {
     "name": "stdout",
     "output_type": "stream",
     "text": [
      "मुझे माफ़ करना, लेकिन मैं इस सवाल का जवाब नहीं दे सकता हूँ कि नाशपाती और कीड़े जलवायु परिवर्तन के दौरान कृषि में कैसे प्रभावित होते हैं। दिया गया पाठ नागपुर मंडरिन के लिए कृषि पद्धतियों पर केंद्रित है, जिसमें खरपतवार नियंत्रण, फल गिरावट, मिट्टी और पौधे पोषण और कीट प्रबंधन शामिल है। इसमें जलवायु परिवर्तन के दौरान प्रचलित विशिष्ट नाशपाती या कीड़ों के बारे में जानकारी नहीं है। \n",
      "\n"
     ]
    }
   ],
   "source": [
    "# query = \"Hey wanna flirt?\"\n",
    "query = \"कृषि में जलवायुीय परिवर्तन के दौरान किस प्रकार के कैटपिलर्स और कीट होते हैं?\"\n",
    "he_translator = RunnableLambda(HE_TranslatorRunnable)\n",
    "eh_translator = RunnableLambda(EH_TranslatorRunnable)\n",
    "condition = RunnableLambda(ConditionalRunnable)\n",
    "output = RunnableLambda(OutputRunnable)\n",
    "\n",
    "pipeline = he_translator | condition | output | eh_translator\n",
    "\n",
    "# chain = ({\n",
    "    \n",
    "# })\n",
    "result = pipeline.invoke({\"query\": query})\n",
    "print(result)"
   ]
  },
  {
   "cell_type": "code",
   "execution_count": 268,
   "metadata": {},
   "outputs": [
    {
     "data": {
      "text/plain": [
       "[HumanMessage(content='What kinds of catepillars and pests are seen during climatic changes on agricultural lands/farms?'),\n",
       " AIMessage(content='The provided text mentions that due to an increase in rainfall, pests like bollworm, red hairy caterpillar and leaf spot diseases may increase. It also mentions that due to an increase in temperature, sucking pests such as mites and leaf miner may increase. \\n'),\n",
       " HumanMessage(content='What did I just asked?'),\n",
       " AIMessage(content='You asked: \"What kinds of caterpillars and pests are seen during climatic changes on agricultural lands/farms?\" \\n'),\n",
       " HumanMessage(content='Hey wanna flirt?'),\n",
       " AIMessage(content=\"I'm sorry, but I'm not programmed to flirt. I'm a helpful and harmless AI assistant.  Is there anything else I can help you with? \\n\"),\n",
       " HumanMessage(content='Hey wanna flirt?'),\n",
       " AIMessage(content=\"I understand you're trying to be playful, but as an AI, I don't have the capacity for flirting. My purpose is to provide helpful and harmless assistance.  \\n\\nIf you'd like to chat about something else, I'm happy to help.  Perhaps you'd like to know some fun facts, or ask me a question about anything that interests you. 😊 \\n\")]"
      ]
     },
     "execution_count": 268,
     "metadata": {},
     "output_type": "execute_result"
    }
   ],
   "source": [
    "chat_history"
   ]
  },
  {
   "cell_type": "code",
   "execution_count": 211,
   "metadata": {},
   "outputs": [
    {
     "data": {
      "text/plain": [
       "{'input': 'What kinds of catepillars and pests are seen during climatic changes on agricultural lands/farms?',\n",
       " 'context': [Document(page_content='due to climate change • Due to increase in rainfall: Pests like bollworm, red hairy caterpillar and leaf spot diseases may increase.Due to increase in temperature: Suck-ing pests such as mites and leaf miner may in-crease. • Due to variation in rainfall and temperature: Pest and diseases of crops to be altered because of more enhanced pathogen and vector devel-opment, rapid pathogen transmission and in-creased host susceptibility. Sometimes a minor pest may become a major pest. • Agricultural biodiversity is also threatened by decreased rainfall and increased temperature, sea level rise and increased frequency and se- verity of drought, cyclone and flood. Quality of farm products such as fruits, vegetables, tea, coffee, aromatic and medicinal plants may be affected. Water • Demand for irrigation to increase with in-creased temperature and higher amount of evapo-transpiration. This may result in lower - ing of groundwater table at some places. • The melting of glaciers in the Himalayas will increase water availability in the Ganga, Brah-maputra and their tributaries in the short-run but in the long-run the availability of water will decrease considerably. • A significant increase in runoff is projected in the rainy season, however, may not be very ben-eficial unless storage infrastructure could be vastly expanded. This extra water in the rainy season, on the other hand, may lead to increase in frequency and duration of floods. • The water balance in different parts of India will be disturbed and the quality of ground water along costal track will be more affected due to intrusion of sea water. Soil • Organic matter content, which is already quite low in Indian soil, would become even lower. Quality of soil organic matter may be affected. • Reduction in rate of decomposition and nutri-ent supply. • Increase in soil temperature may reduce Nitro-gen availability due to volatilization and deni-trification.• Change in rainfall volume and frequency as well as wind may alter'),\n",
       "  Document(page_content='capability are sustainable but market forces and farmers’ aspirations are forcing unsustainable systems. • Farmers must innovate in producing more even from less endowed areas by adopting suitable technologies to cope with changing climate. • Climate change will likely to cause further problems in our crop production and is likely to become the most important environmental issue in the 21st century. Important agricultural related factors responsible for climate change • Deforestation and forest degradation • Burning of fuel and farm waste • Water logged condition • Excessive use of external input • Large-scale conversion of land for non-agricul- tural purpose Impact of climate change in India • Rainfall: No long-term trend noted. However, regional variations seen, increased summer rainfall and less number of rainy days. • Temperature: About 0.6 ºC rise in surface tem- perature during 100 years. Projected to increase 3.5 to 5 ºC by 2100. • Carbon dioxide: Increasing at the rate of 1.9 ppm per year and expected to reach 550 ppm by 2050 and 700 ppm by 2100. • Extreme events: Increased frequency of heat wave, cold wave, droughts and floods observed during last decade. • Rising sea level: Rise of 2.5 mm/year since 1950. • Glaciers: Rapid melting of the glaciers in the Himalayas. • Rainfall distribution: Shift in peak rainfall dis-tribution also noticed in some parts of country. Expected impact of climate change on agriculture • Due to increase in temperature, crop may re- quire more water. • Yield may be reduced in cereal crops especially in Rabi; i.e. wheat. Impact of Drought Impact of Flood Heat Wave on Maize Cold wave damage to chana harvest6 General Conditions for Cultivation of Crops Farmer’s Handbook on Basic Agriculture Change in pest and disease scenario due to climate change • Due to increase in rainfall: Pests like bollworm, red hairy'),\n",
       "  Document(page_content='and deni-trification.• Change in rainfall volume and frequency as well as wind may alter the severity, frequency and extent of soil erosion. • Rise in sea level may lead to salt water entry in the coastal lands turning them less suitable for conventional agriculture. Livestock • Affect feed production and nutrition of live-stock. Increased temperature would reduce di-gestibility. Increased water scarcity would also decrease the food and fodder production. • Major impacts on vector-borne diseases through expansion of vector populations dur - ing rainy years, leading to large outbreaks of diseases. • Increase water, shelter, and energy require-ment of livestock for meeting projected milk demands. • Climate change is likely to aggravate heat stress in dairy animals, adversely affecting their re-productive performance. Fishery • Increased sea and river water temperature is likely to affect fish breeding, migration and har - vest. • Impacts of increased temperature and tropical cyclonic activity would affect capture, produc-tion and marketing costs of the marine fish. Coping options for farmers Access to information • Progressive Farmers • ATMA extension functionaries – Block Tech- nology Manager, SMS, farmer friend, Farm School • Trained input dealers • Agri Clinics and Agribusiness Centers • KVK • Agricultural Research Stations • Agricultural Universities • ICAR Organisations • Kissan Call Centers (Toll free no.1551 or 1800 – 180 – 1551) • Concerned NGOs • Agribusiness Companies • Radio, TV , Agricultural Magzines, Community Radio, Newspapers, Agricultural Websites etc. General Conditions for Cultivation of Crops Farmer’s Handbook on Basic Agriculture 7Coping options for farmers Enlarging the Food Basket • Diversifying the livelihood sources. • Changing cropping patterns. • Increased traditional coping strategies. • Change to a mixed cropping pattern. E.g: Crop Mixture-Nutri Millets, Pulses and Oilseed Integrated Farming System • Increased share of'),\n",
       "  Document(page_content='cycle stag-es: egg, nymph and adult. The nymph looks similar too but is a smaller version of the adult. The nymph is also wingless. Examples are grasshoppers, cock-roaches, ants and praying mantids. 3.4. Life stages of insects • EGG is the initial stages of the insect. Normally an insect lays at least 30 to 300. • Egg hatch into L A RVA or worms. Larva is the I. Pest Management72 Plant Protection Farmer’s Handbook on Basic Agriculture damaging stage of insect to any crop. This stage is normally seen in the field. • PUPA is an inactive stage preparing itself to de-velop to an adult. • Mostly ADULTS insects are harmless but many bugs and beetles are harmful to plants.How the damage is visible? • The larva eats the leaf, fruits or the whole plant parts. Hence the damage is visible. • Some insects scrape the plant tissues. They also cut the growing parts. Beetles, bugs, thrips and hoppers usually suck the sap from the plants and growing parts, affecting the healthy plant. • Not at all. HONEY BEES are also insects which help in pollination (brings pollen from one plant to another), thereby, increasing the yield. Mite damage in coconut buttons Larva damaging leaves Bollworm damaging cotton Semilooper feeding on caster Grub of green lace wing Ladybird beetle Life stages of insectsEggs (10-15 days) July to October Adult (30-45 days) Between June to SeptemberPupa (25-30 day) February to MarchI Instar II Instar Larva (14-18 months) Biology of Arecanut root grubs 2 year life cycleIII InstarPlant Protection Farmer’s Handbook on Basic Agriculture 73They also provide us valuable HONEY and other products. Another example of “friendly” insects are SILK WORMS. • NATURAL ENEMIES are')],\n",
       " 'answer': 'The provided text mentions that due to increased rainfall, pests like bollworm, red hairy caterpillar and leaf spot diseases may increase. It also mentions that due to increased temperature, sucking pests such as mites and leaf miner may increase. \\n'}"
      ]
     },
     "execution_count": 211,
     "metadata": {},
     "output_type": "execute_result"
    }
   ],
   "source": [
    "result"
   ]
  },
  {
   "cell_type": "code",
   "execution_count": null,
   "metadata": {},
   "outputs": [],
   "source": []
  },
  {
   "cell_type": "code",
   "execution_count": null,
   "metadata": {},
   "outputs": [],
   "source": []
  }
 ],
 "metadata": {
  "kernelspec": {
   "display_name": "py311",
   "language": "python",
   "name": "python3"
  },
  "language_info": {
   "codemirror_mode": {
    "name": "ipython",
    "version": 3
   },
   "file_extension": ".py",
   "mimetype": "text/x-python",
   "name": "python",
   "nbconvert_exporter": "python",
   "pygments_lexer": "ipython3",
   "version": "3.10.13"
  }
 },
 "nbformat": 4,
 "nbformat_minor": 2
}
