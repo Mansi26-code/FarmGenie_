{
 "cells": [
  {
   "cell_type": "code",
   "execution_count": 30,
   "metadata": {},
   "outputs": [],
   "source": [
    "import os\n",
    "from dotenv import load_dotenv\n",
    "import json\n",
    "import pandas as pd\n",
    "# Load environment variables from .env file\n",
    "load_dotenv()\n",
    "gemini_api_key = os.getenv(\"GEMINI_API_KEY\")\n",
    "openai_api_key = os.getenv(\"OPENAI_API_KEY\")"
   ]
  },
  {
   "cell_type": "code",
   "execution_count": 25,
   "metadata": {},
   "outputs": [],
   "source": [
    "def ready_prompt(user_query):\n",
    "\n",
    "    prompt = f'''\n",
    "\n",
    "    Prompt:\n",
    "    You are a language model tasked with classifying user queries into one or more of the following categories:\n",
    "    1.\tSoil\n",
    "    2.\tIrrigation\n",
    "    3.\tPlant Diseases/Botany\n",
    "    Each query can be associated with one or more of these labels. Your response should be formatted as a valid JSON object, specifying the number of labels assigned to the query and the labels themselves in the form of a Python list.\n",
    "    Response Format:\n",
    "\n",
    "    {{\n",
    "        \"RESPONSE\": {{\n",
    "            \"answer\": \"<Number of labels assigned to the query>\",\n",
    "            \"labels\": <Labels according to you (should be a valid python list)>\n",
    "        }}\n",
    "    }}\n",
    "    Example Query: \"How can I improve soil fertility and what are the common diseases affecting tomatoes?\"\n",
    "    Example Response:\n",
    "    {{\n",
    "        \"RESPONSE\": {{\n",
    "            \"answer\": \"2\",\n",
    "            \"labels\": [1, 3]\n",
    "        }}\n",
    "    }}\n",
    "    Your Task: For each user query, analyze the content and determine the appropriate labels (1 for Soil, 2 for Irrigation, and 3 for Plant Diseases/Botany). Provide the number of labels and the corresponding labels in the specified JSON format.\n",
    "    Examples-\n",
    "\n",
    "    Example 1: Single Label\n",
    "    Query: \"What type of soil is best for growing carrots?\"\n",
    "    Response:\n",
    "    {{\n",
    "        \"RESPONSE\": {{\n",
    "            \"answer\": \"1\",\n",
    "            \"labels\": [1]\n",
    "        }}\n",
    "    }}\n",
    "    Example 2: Single Label\n",
    "    Query: \"How often should I water my cucumber plants?\"\n",
    "    Response:\n",
    "    {{\n",
    "        \"RESPONSE\": {{\n",
    "            \"answer\": \"1\",\n",
    "            \"labels\": [2]\n",
    "        }}\n",
    "    }}\n",
    "    Example 3: Single Label\n",
    "    Query: \"What are the symptoms of powdery mildew on squash plants?\"\n",
    "    Response:\n",
    "    {{\n",
    "        \"RESPONSE\": {{\n",
    "            \"answer\": \"1\",\n",
    "            \"labels\": [3]\n",
    "        }}\n",
    "    }}\n",
    "    \n",
    "    Example 4: Multi-Label\n",
    "    Query: \"What soil amendments are needed to improve water retention, and how do I prevent root rot in tomatoes?\"\n",
    "    Response:\n",
    "    {{\n",
    "        \"RESPONSE\": {{\n",
    "            \"answer\": \"2\",\n",
    "            \"labels\": [1, 3]\n",
    "        }}\n",
    "    }}\n",
    "    Example 5: Multi-Label\n",
    "    Query: \"How can I set up a drip irrigation system and what are the benefits for soil health?\"\n",
    "    Response:\n",
    "    {{\n",
    "        \"RESPONSE\": {{\n",
    "            \"answer\": \"2\",\n",
    "            \"labels\": [1, 2]\n",
    "        }}\n",
    "    }}\n",
    "    Example 6: Multi-Label\n",
    "    Query: \"What are the best practices for watering plants to avoid fungal diseases?\"\n",
    "    Response:\n",
    "    {{\n",
    "        \"RESPONSE\": {{\n",
    "            \"answer\": \"2\",\n",
    "            \"labels\": [2, 3]\n",
    "        }}\n",
    "    }}\n",
    "\n",
    "    User Query: {user_query}\n",
    "\n",
    "\n",
    "    '''\n",
    "    \n",
    "    return prompt"
   ]
  },
  {
   "cell_type": "code",
   "execution_count": 21,
   "metadata": {},
   "outputs": [],
   "source": [
    "import google.generativeai as genai\n",
    "\n",
    "genai.configure(api_key=gemini_api_key)\n",
    "\n",
    "model = genai.GenerativeModel('gemini-1.5-pro')\n",
    "\n"
   ]
  },
  {
   "cell_type": "code",
   "execution_count": 37,
   "metadata": {},
   "outputs": [],
   "source": [
    "import requests\n",
    "def gpt4_with_for_multi_label_classification(user_query):\n",
    "    \n",
    "    prompt = ready_prompt(user_query=user_query)\n",
    "    \n",
    "    headers = {\n",
    "        \"Content-Type\": \"application/json\",\n",
    "        \"Authorization\": f\"Bearer {openai_api_key}\"\n",
    "    }\n",
    "    \n",
    "    payload = {\n",
    "    \"model\": \"gpt-4o\",\n",
    "    \"messages\": [\n",
    "        {\n",
    "        \"role\": \"user\",\n",
    "        \"content\": [\n",
    "            {\n",
    "            \"type\": \"text\",\n",
    "            \"text\": prompt\n",
    "            },\n",
    "        ]\n",
    "        }\n",
    "    ],\n",
    "    # \"max_tokens\": 300\n",
    "    }\n",
    "\n",
    "    response = requests.post(\"https://api.openai.com/v1/chat/completions\", headers=headers, json=payload)\n",
    "\n",
    "    # print(response.json())\n",
    "    res = response.json()['choices'][0]['message']['content']\n",
    "    return res\n"
   ]
  },
  {
   "cell_type": "code",
   "execution_count": 27,
   "metadata": {},
   "outputs": [],
   "source": [
    "def gemini_pro_with_for_multi_label_classification(user_query):\n",
    "    \n",
    "    prompt = ready_prompt(user_query=user_query)\n",
    "    \n",
    "    res = model.generate_content(\n",
    "        contents=prompt\n",
    "    )\n",
    "    return res.text\n"
   ]
  },
  {
   "cell_type": "code",
   "execution_count": 31,
   "metadata": {},
   "outputs": [
    {
     "data": {
      "text/plain": [
       "{'RESPONSE': {'answer': '1', 'labels': [2]}}"
      ]
     },
     "execution_count": 31,
     "metadata": {},
     "output_type": "execute_result"
    }
   ],
   "source": [
    "res = gemini_pro_with_for_multi_label_classification('What are the benefits of using drip irrigation?')\n",
    "res = res.replace('```', '').replace(\"\\n\", \"\").replace('json','')\n",
    "json_res = json.loads(res)\n",
    "json_res"
   ]
  },
  {
   "cell_type": "code",
   "execution_count": 36,
   "metadata": {},
   "outputs": [
    {
     "name": "stdout",
     "output_type": "stream",
     "text": [
      "{'id': 'chatcmpl-9f4kgVCX9BlASPUvUgzspkAo3sooh', 'object': 'chat.completion', 'created': 1719576742, 'model': 'gpt-4o-2024-05-13', 'choices': [{'index': 0, 'message': {'role': 'assistant', 'content': '{\\n    \"RESPONSE\": {\\n        \"answer\": \"1\",\\n        \"labels\": [2]\\n    }\\n}'}, 'logprobs': None, 'finish_reason': 'stop'}], 'usage': {'prompt_tokens': 614, 'completion_tokens': 24, 'total_tokens': 638}, 'system_fingerprint': 'fp_ce0793330f'}\n"
     ]
    },
    {
     "data": {
      "text/plain": [
       "{'RESPONSE': {'answer': '1', 'labels': [2]}}"
      ]
     },
     "execution_count": 36,
     "metadata": {},
     "output_type": "execute_result"
    }
   ],
   "source": [
    "res = gpt4_with_for_multi_label_classification('What are the benefits of using drip irrigation?')\n",
    "res = res.replace('```', '').replace(\"\\n\", \"\").replace('json','')\n",
    "json_res = json.loads(res)\n",
    "json_res"
   ]
  },
  {
   "cell_type": "code",
   "execution_count": 46,
   "metadata": {},
   "outputs": [],
   "source": [
    "\n",
    "def check_simple_or_complexy_query(response):\n",
    "    if len(response['RESPONSE']['labels']) > 1:\n",
    "        return \"COMPLEX\"\n",
    "    else:\n",
    "        return \"SIMPLE\""
   ]
  },
  {
   "cell_type": "code",
   "execution_count": 47,
   "metadata": {},
   "outputs": [
    {
     "data": {
      "text/plain": [
       "'SIMPLE'"
      ]
     },
     "execution_count": 47,
     "metadata": {},
     "output_type": "execute_result"
    }
   ],
   "source": [
    "check_simple_or_complexy_query(json_res)"
   ]
  },
  {
   "cell_type": "code",
   "execution_count": null,
   "metadata": {},
   "outputs": [],
   "source": []
  }
 ],
 "metadata": {
  "kernelspec": {
   "display_name": "py311",
   "language": "python",
   "name": "python3"
  },
  "language_info": {
   "codemirror_mode": {
    "name": "ipython",
    "version": 3
   },
   "file_extension": ".py",
   "mimetype": "text/x-python",
   "name": "python",
   "nbconvert_exporter": "python",
   "pygments_lexer": "ipython3",
   "version": "3.10.13"
  }
 },
 "nbformat": 4,
 "nbformat_minor": 2
}
